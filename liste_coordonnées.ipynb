{
 "cells": [
  {
   "cell_type": "code",
   "execution_count": 526,
   "metadata": {},
   "outputs": [],
   "source": [
    "# Import\n",
    "import itertools\n",
    "import json\n",
    "\n",
    "import numpy as np\n",
    "import random\n",
    "from munkres import Munkres\n",
    "import time\n",
    "from pymoo.indicators.hv import HV\n"
   ]
  },
  {
   "cell_type": "code",
   "execution_count": 527,
   "metadata": {},
   "outputs": [],
   "source": [
    "def get_sols(r):\n",
    "    n=int(r.readline())\n",
    "    for _ in range(n):\n",
    "        sols.append(list(map(int, r.readline().split()))[1:])\n",
    "    return sols\n",
    "\n",
    "def load_datas(filename: object, N_obj: object, get_sol=True) -> object:\n",
    "    objectifs = []\n",
    "    with open(filename, 'r') as r:\n",
    "        dim = int(r.readline())\n",
    "        for _ in range(4):\n",
    "            tmp = [list(map(int, r.readline().split())) for _ in range(dim)]\n",
    "            objectifs.append(np.array(tmp))\n",
    "\n",
    "        sols=[]\n",
    "        if get_sol:\n",
    "            sols = get_sols(r)\n",
    "    return objectifs[:N_obj], dim, sols"
   ]
  },
  {
   "cell_type": "code",
   "execution_count": 528,
   "metadata": {},
   "outputs": [],
   "source": [
    "def create_mat(positions, N):\n",
    "    vals = []\n",
    "    tmp = np.zeros((N, N))\n",
    "    for index in positions:\n",
    "        tmp[index[0]][index[1]] = 1\n",
    "    vals.append(tmp)\n",
    "    return vals"
   ]
  },
  {
   "cell_type": "code",
   "execution_count": 529,
   "metadata": {},
   "outputs": [],
   "source": [
    "def fast_compute_objectifs(coordinates, objectifs):\n",
    "    return [int(sum([objectif[x, y] for x, y in coordinates])) for objectif in objectifs]"
   ]
  },
  {
   "cell_type": "code",
   "execution_count": 530,
   "metadata": {},
   "outputs": [],
   "source": [
    "def sol_is_valid(coordinates):\n",
    "    rows = set([x for x, y in coordinates])\n",
    "    columns = set([y for x, y in coordinates])\n",
    "    if len(rows) == len(coordinates) and len(columns) == len(coordinates):\n",
    "        # print(\"Il n'y a pas de doublons.\")\n",
    "        return True\n",
    "    else:\n",
    "        # print(\"Il y a des doublons.\")\n",
    "        return False\n"
   ]
  },
  {
   "cell_type": "code",
   "execution_count": 531,
   "metadata": {},
   "outputs": [],
   "source": [
    "def generate_identity_and_reverse(dim):\n",
    "    identi = np.identity(dim)\n",
    "    indices = np.nonzero(identi)\n",
    "    start = list(zip(indices[0], indices[1]))\n",
    "    flip_start = np.fliplr(identi)\n",
    "    indices = np.nonzero(flip_start)\n",
    "    flip_start = list(zip(indices[0], indices[1]))\n",
    "    return [start, flip_start]"
   ]
  },
  {
   "cell_type": "code",
   "execution_count": 532,
   "metadata": {},
   "outputs": [],
   "source": [
    "def generate_best_single_obj(objectifs):\n",
    "    vals = []\n",
    "    objs_copy = np.copy(objectifs)\n",
    "    for i in range(len(objectifs)):\n",
    "        m = Munkres()\n",
    "        indexes = m.compute(objs_copy[i])\n",
    "        vals.append(indexes)\n",
    "    return vals"
   ]
  },
  {
   "cell_type": "code",
   "execution_count": 533,
   "metadata": {},
   "outputs": [],
   "source": [
    "def write_solutions(lap, filename, A):\n",
    "    with open(f'solutions_multi/lap-{lap}/{filename}.txt', 'w') as w:\n",
    "        w.write(f'{len(A)}\\n')\n",
    "        for a in A:\n",
    "            w.write(' '.join(str(p) for p in a[0]))\n",
    "            w.write('\\n')\n",
    "\n",
    "    ##########################################################\n",
    "\n",
    "    with open(f'solutions_pts_multi/lap-{lap}/{filename}.txt', 'w') as w:\n",
    "        w.write(f'{len(A)}\\n')\n",
    "        for a in A:\n",
    "            w.write('   '.join(str(p) for p in a[1]))\n",
    "            w.write('\\n')"
   ]
  },
  {
   "cell_type": "code",
   "execution_count": 534,
   "metadata": {},
   "outputs": [],
   "source": [
    "def make_n_permute(tuple_list, n):\n",
    "    coordinates = tuple_list.copy()\n",
    "    samples = random.sample(coordinates, n)\n",
    "    l1, l2 = zip(*samples)\n",
    "    line_permute = [(x, y) for x, y in zip(random.sample(l1, len(l1)), l2)]\n",
    "    for sample in samples:\n",
    "        coordinates.remove(sample)\n",
    "    return coordinates + line_permute"
   ]
  },
  {
   "cell_type": "code",
   "execution_count": 535,
   "outputs": [],
   "source": [
    "import itertools\n",
    "def permute_all_possibility(tuple_list):\n",
    "    l1, l2 = zip(*tuple_list)\n",
    "    possibilities = list(itertools.permutations(l2))\n",
    "    pts = []\n",
    "    for p in possibilities:\n",
    "        pts.append(list(zip(l1, p)))\n",
    "    return pts"
   ],
   "metadata": {
    "collapsed": false
   }
  },
  {
   "cell_type": "code",
   "execution_count": 536,
   "outputs": [],
   "source": [
    "def fast_random_permute(tuple_list, N, exclusions):\n",
    "    voisins = []\n",
    "    for i in range(N):\n",
    "        x, y = zip(*tuple_list)\n",
    "        random.shuffle(list(y))\n",
    "        l1 = list(zip(x, y))\n",
    "        l1.sort()\n",
    "        # if sol_is_valid(l1) and str(l1) not in exclusions:\n",
    "        if sol_is_valid(l1):\n",
    "            voisins.append(l1)\n",
    "            exclusions.add(str(l1))\n",
    "\n",
    "        for it in [2, 2, 3,  5, 7,10, 15]:\n",
    "        # for it in [2, 2, 2, 3, 3, 4, 5]:\n",
    "            l2 = make_n_permute(tuple_list, it)\n",
    "            l2.sort()\n",
    "            # if sol_is_valid(l2) and str(l2) not in exclusions:\n",
    "            if sol_is_valid(l2):\n",
    "                voisins.append(l2)\n",
    "                exclusions.add(str(l2))\n",
    "        # l2 = make_n_permute(tuple_list, 5)\n",
    "        # l2.sort()\n",
    "        # if sol_is_valid(l2) and str(l2) not in exclusions:\n",
    "        #     voisins.append(l2)\n",
    "        #     exclusions.add(str(l2))\n",
    "        # l2 = make_n_permute(tuple_list, 2)\n",
    "        # l2.sort()\n",
    "        # if sol_is_valid(l2) and str(l2) not in exclusions:\n",
    "        #     voisins.append(l2)\n",
    "        #     exclusions.add(str(l2))\n",
    "    # voisins+= permute_all_possibility(tuple_list)\n",
    "    return voisins, exclusions"
   ],
   "metadata": {
    "collapsed": false
   }
  },
  {
   "cell_type": "code",
   "execution_count": 537,
   "metadata": {},
   "outputs": [],
   "source": [
    "def update(A, Pa, obj_voisin, voisin, N_obj, exclusions):\n",
    "    bad_memory=[]\n",
    "    global_counter=0\n",
    "    for i in range(len(A)):\n",
    "        A_grand=0\n",
    "        A_petit=0\n",
    "        for k in range(N_obj):\n",
    "            if A[i][0][k]>=obj_voisin[k]:\n",
    "                A_grand+=1\n",
    "            if A[i][0][k]<=obj_voisin[k]:\n",
    "                A_petit+=1\n",
    "        if A_petit == N_obj:\n",
    "            break\n",
    "        if A_grand == N_obj:\n",
    "            bad_memory.append(i)\n",
    "        global_counter+=1\n",
    "    for indice in sorted(bad_memory, reverse=True):\n",
    "        A.pop(indice)\n",
    "    if global_counter == len(A)-len(bad_memory):\n",
    "        Pa.append(voisin)\n",
    "        A.append((obj_voisin, voisin))\n",
    "        # exclusions.add(str(voisin))\n",
    "    return A, Pa, exclusions"
   ]
  },
  {
   "cell_type": "code",
   "execution_count": 538,
   "metadata": {},
   "outputs": [],
   "source": [
    "def load_solutions(filename):\n",
    "    with open(f\"solutions_pts_multi/{filename}\", 'r') as r:\n",
    "        N = int(r.readline())\n",
    "        solutions = []\n",
    "        for _ in range(N):\n",
    "            lines = [eval(t) for t in r.readline().split('  ')]\n",
    "            solutions.append(lines)\n",
    "    return solutions"
   ]
  },
  {
   "cell_type": "code",
   "execution_count": 539,
   "outputs": [],
   "source": [
    "def write_exclusions(filename, exclusions):\n",
    "    with open( \"data.txt\", 'w') as w:\n",
    "        w.write(f\"{len(exclusions)}\\n\")\n",
    "        for pt in exclusions:\n",
    "            w.write(f\"{pt}\\n\")\n",
    "def load_exclusions(filename):\n",
    "    t=set()\n",
    "    with open( \"data.txt\", 'r') as r:\n",
    "        N = int(r.readline())\n",
    "        for _ in range(N):\n",
    "            t.add(r.readline().rstrip('\\n'))\n",
    "    return t"
   ],
   "metadata": {
    "collapsed": false
   }
  },
  {
   "cell_type": "code",
   "execution_count": 540,
   "metadata": {},
   "outputs": [],
   "source": [
    "def initialise(objectifs, dim, N_obj,exclusions, init = 1 ,filename=''):\n",
    "    if filename:\n",
    "        P_temp = load_solutions(filename)\n",
    "    else:\n",
    "        P_temp = generate_best_single_obj(objectifs) + generate_identity_and_reverse(dim)\n",
    "    vals = []\n",
    "    for val in P_temp:\n",
    "        vals += fast_random_permute(val, init, exclusions)[0]\n",
    "    P_temp += vals\n",
    "    A = []  # archive val obj\n",
    "    Pa = []\n",
    "    for p in P_temp:\n",
    "        obj_voisin = fast_compute_objectifs(p, objectifs)\n",
    "        if len(A) == 0:\n",
    "            A.append((obj_voisin, p))\n",
    "            Pa.append(p)\n",
    "            p.sort()\n",
    "            exclusions.add(str(p))\n",
    "            pass\n",
    "        A, Pa, exclusions = update(A, Pa, obj_voisin, p, N_obj, exclusions)\n",
    "    P = Pa\n",
    "    Pa = []\n",
    "    return A, P, Pa, exclusions"
   ]
  },
  {
   "cell_type": "code",
   "execution_count": 541,
   "metadata": {},
   "outputs": [],
   "source": [
    "def pareto_search(A, P, Pa, max_time, exclusions):\n",
    "    start = time.time()\n",
    "    stopper = 0\n",
    "    while P:\n",
    "        i_start = time.time()\n",
    "        print(f\"Iterations: {stopper + 1}\")\n",
    "        print(f\"Lenght of A: {len(A)}\")\n",
    "        print(f\"Lenght of P: {len(P)}\")\n",
    "        print(f\"*** Excluded pts: {len(exclusions)} ***\")\n",
    "        for x in P:\n",
    "            voisinage, exclusions = fast_random_permute(x, determine_voisin(P), exclusions)\n",
    "            for voisin in voisinage:\n",
    "                obj_voisin = fast_compute_objectifs(voisin, objectifs)\n",
    "                A, Pa, exclusions = update(A, Pa, obj_voisin, voisin, N_obj, exclusions)\n",
    "        i_end = time.time()\n",
    "        print(f\"Iteration time: {i_end - i_start}\")\n",
    "        print(\"----------------------------------\")\n",
    "        P = Pa\n",
    "        Pa = []\n",
    "        if (i_end - start) >= max_time:\n",
    "            break\n",
    "        stopper += 1\n",
    "    end = time.time()\n",
    "    run_time = end-start\n",
    "    print(f\"Total time: {run_time} seconds\")\n",
    "    print(f\"Lenght of A: {len(A)}\")\n",
    "    return A, P, Pa, run_time, exclusions"
   ]
  },
  {
   "cell_type": "code",
   "execution_count": 542,
   "metadata": {},
   "outputs": [],
   "source": [
    "def determine_voisin(P):\n",
    "    if len(P)<10:\n",
    "        return 200\n",
    "    elif len(P)<50:\n",
    "        return 100\n",
    "    elif len(P)<100:\n",
    "        return 50\n",
    "    elif len(P)<500:\n",
    "        return 25\n",
    "    elif len(P)<1000:\n",
    "        return 10\n",
    "    elif len(P)<5000:\n",
    "        return 5\n",
    "    elif len(P)<10000:\n",
    "        return 3\n",
    "    else:\n",
    "        return 2"
   ]
  },
  {
   "cell_type": "code",
   "execution_count": 543,
   "outputs": [],
   "source": [
    "N_obj = 4\n",
    "lap = 30\n",
    "sols_filename = f'lap-{lap}/_hv_LAP-{lap}.txt'\n",
    "# sols_filename = f'lap-{lap}/_hv_LAP-{lap}-4obj.txt'\n",
    "objectifs, dim, sols = load_datas(f'datas/LAP-{lap}.dat', N_obj, get_sol=False)"
   ],
   "metadata": {
    "collapsed": false
   }
  },
  {
   "cell_type": "code",
   "execution_count": 544,
   "outputs": [
    {
     "name": "stdout",
     "output_type": "stream",
     "text": [
      "==== Time remaining: 900s ====\n",
      "*** Excluded pts: 0 ***\n",
      "Iterations: 1\n",
      "Lenght of A: 10891\n",
      "Lenght of P: 11278\n",
      "*** Excluded pts: 72850 ***\n",
      "Iteration time: 250.1728503704071\n",
      "----------------------------------\n",
      "Iterations: 2\n",
      "Lenght of A: 11349\n",
      "Lenght of P: 1519\n",
      "*** Excluded pts: 203756 ***\n",
      "Iteration time: 131.91725420951843\n",
      "----------------------------------\n",
      "Iterations: 3\n",
      "Lenght of A: 11422\n",
      "Lenght of P: 306\n",
      "*** Excluded pts: 247807 ***\n",
      "Iteration time: 129.06844282150269\n",
      "----------------------------------\n",
      "Iterations: 4\n",
      "Lenght of A: 11443\n",
      "Lenght of P: 215\n",
      "*** Excluded pts: 291744 ***\n",
      "Iteration time: 88.45748949050903\n",
      "----------------------------------\n",
      "Iterations: 5\n",
      "Lenght of A: 11406\n",
      "Lenght of P: 157\n",
      "*** Excluded pts: 322488 ***\n",
      "Iteration time: 63.646722078323364\n",
      "----------------------------------\n",
      "Iterations: 6\n",
      "Lenght of A: 11358\n",
      "Lenght of P: 109\n",
      "*** Excluded pts: 345017 ***\n",
      "Iteration time: 44.47983908653259\n",
      "----------------------------------\n",
      "Iterations: 7\n",
      "Lenght of A: 11349\n",
      "Lenght of P: 86\n",
      "*** Excluded pts: 360614 ***\n",
      "Iteration time: 69.68132543563843\n",
      "----------------------------------\n",
      "Iterations: 8\n",
      "Lenght of A: 11346\n",
      "Lenght of P: 101\n",
      "*** Excluded pts: 384867 ***\n",
      "Iteration time: 41.39931273460388\n",
      "----------------------------------\n",
      "Iterations: 9\n",
      "Lenght of A: 11354\n",
      "Lenght of P: 87\n",
      "*** Excluded pts: 399290 ***\n",
      "Iteration time: 71.3454942703247\n",
      "----------------------------------\n",
      "Iterations: 10\n",
      "Lenght of A: 11346\n",
      "Lenght of P: 112\n",
      "*** Excluded pts: 423853 ***\n",
      "Iteration time: 47.23304057121277\n",
      "----------------------------------\n",
      "Total time: 937.4024589061737 seconds\n",
      "Lenght of A: 11349\n"
     ]
    }
   ],
   "source": [
    "for _ in range(1):\n",
    "\n",
    "    max_run_time=int(1*60)\n",
    "    exclusions = set()\n",
    "    # exclusions = load_exclusions(f\"exclusions_lap-{lap}\")\n",
    "    while max_run_time>0:\n",
    "        print(f\"==== Time remaining: {max_run_time}s ====\")\n",
    "        print(f\"*** Excluded pts: {len(exclusions)} ***\")\n",
    "        A, P, Pa, exclusions = initialise(objectifs, dim, N_obj,exclusions,  init = 1,filename=sols_filename)\n",
    "        A, P, Pa, run_time, exclusions =pareto_search(A, P, Pa, max_run_time, exclusions)\n",
    "        write_solutions(lap, f\"_hv_LAP-{lap}\", A)\n",
    "        max_run_time -=run_time\n",
    "    write_exclusions(f'exclusion    s_lap-{lap}', exclusions)"
   ],
   "metadata": {
    "collapsed": false
   }
  },
  {
   "cell_type": "code",
   "execution_count": 545,
   "metadata": {},
   "outputs": [],
   "source": [
    "# pareto = []\n",
    "# for a in A:\n",
    "#     pareto.append(np.array(a[0]))\n",
    "# pareto = np.array(pareto)\n",
    "# ref_15 = np.array([112, 206, 247, 418])\n",
    "# ref_20 = np.array([137, 304, 414, 531])\n",
    "# ref_30 = np.array([211, 381, 581, 835])\n",
    "# if lap == 15:\n",
    "#     ref_point = ref_15\n",
    "# elif lap == 20:\n",
    "#     ref_point = ref_20\n",
    "# elif lap == 30:\n",
    "#     ref_point = ref_30\n",
    "# else:\n",
    "#     pt = 900\n",
    "#     ref_point = np.array([pt, pt, pt, pt])\n",
    "#\n",
    "# ind = HV(ref_point=ref_point)\n",
    "# hv = ind(pareto)\n",
    "# print(\"HV\", hv)\n",
    "# print(f\"Norm: {hv / (np.prod(ref_point))}\")"
   ]
  },
  {
   "cell_type": "code",
   "execution_count": 546,
   "metadata": {},
   "outputs": [],
   "source": [
    "# write_solutions(lap, f\"{int(round(hv / (np.prod(ref_point)) * 100, 0))}_hv_LAP-{lap}\", A)\n",
    "# write_solutions(lap, f\"_hv_LAP-{lap}\", A)"
   ]
  },
  {
   "cell_type": "code",
   "execution_count": 547,
   "outputs": [],
   "source": [
    "write_exclusions(f'exclusions_lap-{lap}', set())"
   ],
   "metadata": {
    "collapsed": false
   }
  }
 ],
 "metadata": {
  "kernelspec": {
   "display_name": "Python 3 (ipykernel)",
   "language": "python",
   "name": "python3"
  },
  "language_info": {
   "codemirror_mode": {
    "name": "ipython",
    "version": 2
   },
   "file_extension": ".py",
   "mimetype": "text/x-python",
   "name": "python",
   "nbconvert_exporter": "python",
   "pygments_lexer": "ipython2",
   "version": "2.7.6"
  }
 },
 "nbformat": 4,
 "nbformat_minor": 1
}
