{
 "cells": [
  {
   "cell_type": "code",
   "execution_count": 405,
   "metadata": {},
   "outputs": [],
   "source": [
    "# Import\n",
    "import itertools\n",
    "import json\n",
    "\n",
    "import numpy as np\n",
    "import random\n",
    "from munkres import Munkres\n",
    "import time\n",
    "from pymoo.indicators.hv import HV\n"
   ]
  },
  {
   "cell_type": "code",
   "execution_count": 406,
   "metadata": {},
   "outputs": [],
   "source": [
    "def get_sols(r):\n",
    "    n=int(r.readline())\n",
    "    for _ in range(n):\n",
    "        sols.append(list(map(int, r.readline().split()))[1:])\n",
    "    return sols\n",
    "\n",
    "def load_datas(filename: object, N_obj: object, get_sol=True) -> object:\n",
    "    objectifs = []\n",
    "    with open(filename, 'r') as r:\n",
    "        dim = int(r.readline())\n",
    "        for _ in range(4):\n",
    "            tmp = [list(map(int, r.readline().split())) for _ in range(dim)]\n",
    "            objectifs.append(np.array(tmp))\n",
    "\n",
    "        sols=[]\n",
    "        if get_sol:\n",
    "            sols = get_sols(r)\n",
    "    return objectifs[:N_obj], dim, sols"
   ]
  },
  {
   "cell_type": "code",
   "execution_count": 407,
   "metadata": {},
   "outputs": [],
   "source": [
    "def create_mat(positions, N):\n",
    "    vals = []\n",
    "    tmp = np.zeros((N, N))\n",
    "    for index in positions:\n",
    "        tmp[index[0]][index[1]] = 1\n",
    "    vals.append(tmp)\n",
    "    return vals"
   ]
  },
  {
   "cell_type": "code",
   "execution_count": 408,
   "metadata": {},
   "outputs": [],
   "source": [
    "def fast_compute_objectifs(coordinates, objectifs):\n",
    "    return [int(sum([objectif[x, y] for x, y in coordinates])) for objectif in objectifs]"
   ]
  },
  {
   "cell_type": "code",
   "execution_count": 409,
   "metadata": {},
   "outputs": [],
   "source": [
    "def sol_is_valid(coordinates):\n",
    "    rows = set([x for x, y in coordinates])\n",
    "    columns = set([y for x, y in coordinates])\n",
    "    if len(rows) == len(coordinates) and len(columns) == len(coordinates):\n",
    "        # print(\"Il n'y a pas de doublons.\")\n",
    "        return True\n",
    "    else:\n",
    "        # print(\"Il y a des doublons.\")\n",
    "        return False\n"
   ]
  },
  {
   "cell_type": "code",
   "execution_count": 410,
   "metadata": {},
   "outputs": [],
   "source": [
    "def fast_random_permute(tuple_list, N):\n",
    "    diversity = 4\n",
    "    list1, list2 = zip(*tuple_list)\n",
    "    voisins = []\n",
    "    for i in range(N):\n",
    "        l1 = [(x, y) for x, y in zip(list1, random.sample(list2, len(list2)))]\n",
    "        if sol_is_valid(l1) and l1 not in voisins:\n",
    "            voisins.append(l1)\n",
    "        for _ in range(diversity):\n",
    "            l2 = make_n_permute(tuple_list, 2)\n",
    "            if sol_is_valid(l2) and l2 not in voisins:\n",
    "                voisins.append(l2)\n",
    "        for _ in range(diversity//2):\n",
    "            l3 = make_n_permute(tuple_list, 3)\n",
    "            if sol_is_valid(l3) and l3 not in voisins:\n",
    "                voisins.append(l3)\n",
    "        for _ in range (diversity//4):\n",
    "            l4 = make_n_permute(tuple_list, 4)\n",
    "            if sol_is_valid(l4) and l4 not in voisins:\n",
    "                voisins.append(l4)\n",
    "    return voisins"
   ]
  },
  {
   "cell_type": "code",
   "execution_count": 411,
   "metadata": {},
   "outputs": [],
   "source": [
    "def generate_identity_and_reverse(dim):\n",
    "    identi = np.identity(dim)\n",
    "    indices = np.nonzero(identi)\n",
    "    start = list(zip(indices[0], indices[1]))\n",
    "    flip_start = np.fliplr(identi)\n",
    "    indices = np.nonzero(flip_start)\n",
    "    flip_start = list(zip(indices[0], indices[1]))\n",
    "    return [start, flip_start]"
   ]
  },
  {
   "cell_type": "code",
   "execution_count": 412,
   "metadata": {},
   "outputs": [],
   "source": [
    "def generate_best_single_obj(objectifs):\n",
    "    vals = []\n",
    "    objs_copy = np.copy(objectifs)\n",
    "    for i in range(len(objectifs)):\n",
    "        m = Munkres()\n",
    "        indexes = m.compute(objs_copy[i])\n",
    "        vals.append(indexes)\n",
    "    return vals"
   ]
  },
  {
   "cell_type": "code",
   "execution_count": 413,
   "metadata": {},
   "outputs": [],
   "source": [
    "def write_solutions(lap, filename, A):\n",
    "    with open(f'solutions_multi/lap-{lap}/{filename}.txt', 'w') as w:\n",
    "        w.write(f'{len(A)}\\n')\n",
    "        for a in A:\n",
    "            w.write(' '.join(str(p) for p in a[0]))\n",
    "            w.write('\\n')\n",
    "\n",
    "    ##########################################################\n",
    "\n",
    "    with open(f'solutions_pts_multi/lap-{lap}/{filename}.txt', 'w') as w:\n",
    "        w.write(f'{len(A)}\\n')\n",
    "        for a in A:\n",
    "            w.write('   '.join(str(p) for p in a[1]))\n",
    "            w.write('\\n')"
   ]
  },
  {
   "cell_type": "code",
   "execution_count": 414,
   "metadata": {},
   "outputs": [],
   "source": [
    "def make_n_permute(tuple_list, n):\n",
    "    coordinates = tuple_list.copy()\n",
    "    samples = random.sample(coordinates, n)\n",
    "    l1, l2 = zip(*samples)\n",
    "    line_permute = [(x, y) for x, y in zip(random.sample(l1, len(l1)), l2)]\n",
    "    for sample in samples:\n",
    "        coordinates.remove(sample)\n",
    "    return coordinates + line_permute"
   ]
  },
  {
   "cell_type": "code",
   "execution_count": 415,
   "metadata": {},
   "outputs": [],
   "source": [
    "def update(A, Pa, obj_voisin, voisin, N_obj):\n",
    "    bad_memory=[]\n",
    "    O_O = False\n",
    "    global_counter=0\n",
    "    for i in range(len(A)):\n",
    "        A_grand=0\n",
    "        A_petit=0\n",
    "        for k in range(N_obj):\n",
    "            if A[i][0][k]>=obj_voisin[k]:\n",
    "                A_grand+=1\n",
    "            if A[i][0][k]<=obj_voisin[k]:\n",
    "                A_petit+=1\n",
    "        if A_petit == N_obj:\n",
    "            break\n",
    "        if A_grand == N_obj:\n",
    "            bad_memory.append(i)\n",
    "            good_memory = obj_voisin\n",
    "            O_O = True\n",
    "        global_counter+=1\n",
    "    for indice in sorted(bad_memory, reverse=True):\n",
    "        A.pop(indice)\n",
    "    if global_counter == len(A)-len(bad_memory):\n",
    "        Pa.append(voisin)\n",
    "        A.append((obj_voisin, voisin))\n",
    "\n",
    "\n",
    "    return A, Pa"
   ]
  },
  {
   "cell_type": "code",
   "execution_count": 416,
   "metadata": {},
   "outputs": [],
   "source": [
    "def load_solutions(filename):\n",
    "    with open(f\"solutions_pts_multi/{filename}\", 'r') as r:\n",
    "        N = int(r.readline())\n",
    "        solutions = []\n",
    "        for _ in range(N):\n",
    "            lines = [eval(t) for t in r.readline().split('  ')]\n",
    "            solutions.append(lines)\n",
    "    return solutions"
   ]
  },
  {
   "cell_type": "code",
   "execution_count": 417,
   "metadata": {},
   "outputs": [],
   "source": [
    "def initialise(objectifs, dim, N_obj, filename=''):\n",
    "    if filename:\n",
    "        P_temp = load_solutions(filename)\n",
    "    else:\n",
    "        P_temp = generate_best_single_obj(objectifs) + generate_identity_and_reverse(dim)\n",
    "    vals = []\n",
    "    for val in P_temp:\n",
    "        vals += fast_random_permute(val, 2)\n",
    "    P_temp += vals\n",
    "    A = []  # archive val obj\n",
    "    Pa = []\n",
    "    for p in P_temp:\n",
    "        obj_voisin = fast_compute_objectifs(p, objectifs)\n",
    "        if len(A) == 0:\n",
    "            A.append((obj_voisin, p))\n",
    "            Pa.append(p)\n",
    "            pass\n",
    "        A, Pa = update(A, Pa, obj_voisin, p, N_obj)\n",
    "    P = Pa\n",
    "    Pa = []\n",
    "    return A, P, Pa"
   ]
  },
  {
   "cell_type": "code",
   "execution_count": 418,
   "metadata": {},
   "outputs": [],
   "source": [
    "def pareto_search(A, P, Pa, n_voisinage_permute, max_time):\n",
    "    start = time.time()\n",
    "    stopper = 0\n",
    "    while P:\n",
    "        i_start = time.time()\n",
    "        print(f\"Iterations: {stopper + 1}\")\n",
    "        print(f\"Lenght of A: {len(A)}\")\n",
    "        print(f\"Lenght of P: {len(P)}\")\n",
    "        for x in P:\n",
    "            voisinage = fast_random_permute(x, determine_voisin(P))\n",
    "            for voisin in voisinage:\n",
    "                obj_voisin = fast_compute_objectifs(voisin, objectifs)\n",
    "                A, Pa = update(A, Pa, obj_voisin, voisin, N_obj)\n",
    "        i_end = time.time()\n",
    "        print(f\"Iteration time: {i_end - i_start}\")\n",
    "        print(\"----------------------------------\")\n",
    "        P = Pa\n",
    "        Pa = []\n",
    "        if (i_end - start) >= max_time:\n",
    "            break\n",
    "        stopper += 1\n",
    "    end = time.time()\n",
    "    print(f\"Total time: {end - start} seconds\")\n",
    "    print(f\"Lenght of A: {len(A)}\")\n",
    "    return A, P, Pa"
   ]
  },
  {
   "cell_type": "code",
   "execution_count": 419,
   "metadata": {},
   "outputs": [],
   "source": [
    "def determine_voisin(P):\n",
    "    if len(P)<100:\n",
    "        return 50\n",
    "    elif len(P)<1000:\n",
    "        return 10\n",
    "    elif len(P)<5000:\n",
    "        return 5\n",
    "    elif len(P)<10000:\n",
    "        return 2\n",
    "    else:\n",
    "        return 1"
   ]
  },
  {
   "cell_type": "code",
   "execution_count": 420,
   "metadata": {},
   "outputs": [],
   "source": [
    "N_obj = 4\n",
    "lap = 20\n",
    "objectifs, dim, sols = load_datas(f'datas/LAP-{lap}.dat', N_obj, get_sol=False)\n",
    "A, P, Pa = initialise(objectifs, dim, N_obj, filename='lap-20/25_hv.txt')"
   ]
  },
  {
   "cell_type": "code",
   "execution_count": null,
   "metadata": {
    "pycharm": {
     "is_executing": true
    }
   },
   "outputs": [
    {
     "name": "stdout",
     "output_type": "stream",
     "text": [
      "Iterations: 1\n",
      "Lenght of A: 6013\n",
      "Lenght of P: 9007\n",
      "Iteration time: 151.26566672325134\n",
      "----------------------------------\n",
      "Iterations: 2\n",
      "Lenght of A: 6691\n",
      "Lenght of P: 4938\n"
     ]
    }
   ],
   "source": [
    "n_voisinage_permute = 2\n",
    "max_run_time = 5*60\n",
    "A, P, Pa =pareto_search(A, P, Pa, n_voisinage_permute, max_run_time)"
   ]
  },
  {
   "cell_type": "code",
   "execution_count": null,
   "metadata": {
    "pycharm": {
     "is_executing": true
    }
   },
   "outputs": [],
   "source": [
    "pareto = []\n",
    "for a in A:\n",
    "    pareto.append(np.array(a[0]))\n",
    "pareto = np.array(pareto)\n",
    "ref_15 = np.array([112, 206, 247, 418])\n",
    "ref_20 = np.array([137, 304, 414, 531])\n",
    "ref_30 = np.array([211, 381, 581, 835])\n",
    "if lap == 15:\n",
    "    ref_point = ref_15\n",
    "elif lap == 20:\n",
    "    ref_point = ref_20\n",
    "elif lap == 30:\n",
    "    ref_point = ref_30\n",
    "else:\n",
    "    pt = 900\n",
    "    ref_point = np.array([pt, pt, pt, pt])\n",
    "\n",
    "ind = HV(ref_point=ref_point)\n",
    "hv = ind(pareto)\n",
    "print(\"HV\", hv)\n",
    "print(f\"Norm: {hv / (np.prod(ref_point))}\")"
   ]
  },
  {
   "cell_type": "code",
   "execution_count": null,
   "metadata": {
    "pycharm": {
     "is_executing": true
    }
   },
   "outputs": [],
   "source": [
    "write_solutions(lap, f\"{int(hv / (np.prod(ref_point)) * 100)}_hv\", A)"
   ]
  },
  {
   "cell_type": "code",
   "execution_count": null,
   "metadata": {
    "pycharm": {
     "is_executing": true
    }
   },
   "outputs": [],
   "source": []
  }
 ],
 "metadata": {
  "kernelspec": {
   "display_name": "Python 3 (ipykernel)",
   "language": "python",
   "name": "python3"
  },
  "language_info": {
   "codemirror_mode": {
    "name": "ipython",
    "version": 2
   },
   "file_extension": ".py",
   "mimetype": "text/x-python",
   "name": "python",
   "nbconvert_exporter": "python",
   "pygments_lexer": "ipython2",
   "version": "2.7.6"
  }
 },
 "nbformat": 4,
 "nbformat_minor": 1
}
